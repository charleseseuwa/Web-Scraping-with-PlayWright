{
 "cells": [
  {
   "cell_type": "markdown",
   "id": "f6811975",
   "metadata": {},
   "source": [
    " **<center><u>Web Scrapping in Python</u></center>**"
   ]
  },
  {
   "cell_type": "markdown",
   "id": "89b89068",
   "metadata": {},
   "source": [
    "The Web Scrapping will be done from [New York Best Sellers](https://www.nytimes.com/books/best-sellers) website"
   ]
  },
  {
   "cell_type": "code",
   "execution_count": 1,
   "id": "a898cc30",
   "metadata": {},
   "outputs": [],
   "source": [
    "from bs4 import BeautifulSoup"
   ]
  },
  {
   "cell_type": "code",
   "execution_count": 2,
   "id": "0531e78a",
   "metadata": {},
   "outputs": [],
   "source": [
    "with open('Manual.html', 'r', encoding='utf-8') as file:\n",
    "    page = file.read()"
   ]
  },
  {
   "cell_type": "code",
   "execution_count": 3,
   "id": "08532a3a",
   "metadata": {},
   "outputs": [],
   "source": [
    "soup = BeautifulSoup(page, 'lxml')"
   ]
  },
  {
   "cell_type": "code",
   "execution_count": 4,
   "id": "2bf6d863",
   "metadata": {},
   "outputs": [],
   "source": [
    "articles = soup.select('article') #<-- select individual tags with css selector.  Selector each article tags in the html"
   ]
  },
  {
   "cell_type": "code",
   "execution_count": 5,
   "id": "d5c20f2a",
   "metadata": {},
   "outputs": [
    {
     "data": {
      "text/plain": [
       "<article class=\"css-1u6k25n\" itemprop=\"itemListElement\" itemscope=\"\" itemtype=\"https://schema.org/Book\"><div class=\"css-xe4cfy\"><a><p class=\"css-1o26r9v\">New this week</p><h3 class=\"css-5pe77f\" itemprop=\"name\">THE WAGER</h3><p class=\"css-hjukut\" itemprop=\"author\">by David Grann</p><p class=\"css-heg334\" itemprop=\"publisher\">Doubleday</p><p class=\"css-14lubdp\" itemprop=\"description\">The survivors of a shipwrecked British vessel on a secret mission during an imperial war with Spain have different accounts of events.</p></a><div class=\"css-1cpfh5o\"><div class=\"css-fugswm\"><div class=\"css-79elbk\"><button aria-expanded=\"false\" aria-haspopup=\"true\" class=\"css-80zux2\" type=\"button\">Buy<span aria-hidden=\"true\"> ▾</span></button><ul aria-label=\"Links to Book Retailers\" class=\"css-8dud8s\" hidden=\"\"><li><a class=\"css-114t425\" href=\"https://www.amazon.com/dp/0385534264?tag=NYTBSREV-20\" rel=\"noopener noreferrer\" target=\"_blank\">Amazon</a></li><li><a class=\"css-114t425\" href=\"https://goto.applebooks.apple/9780385534260?at=10lIEQ\" rel=\"noopener noreferrer\" target=\"_blank\">Apple Books</a></li><li><a class=\"css-114t425\" href=\"https://www.anrdoezrs.net/click-7990613-11819508?url=https%3A%2F%2Fwww.barnesandnoble.com%2Fw%2F%3Fean%3D9780385534260\" rel=\"noopener noreferrer\" target=\"_blank\">Barnes and Noble</a></li><li><a class=\"css-114t425\" href=\"https://du-gae-books-dot-nyt-du-prd.appspot.com/redirect?url1=https%3A%2F%2Fwww.anrdoezrs.net%2Fclick-7990613-35140%3Furl%3Dhttps%253A%252F%252Fwww.booksamillion.com%252Fp%252FTHE%252BWAGER%252FDavid%252BGrann%252F9780385534260&amp;url2=https%3A%2F%2Fwww.anrdoezrs.net%2Fclick-7990613-35140%3Furl%3Dhttps%253A%252F%252Fwww.booksamillion.com%252Fsearch%253Fquery%253DTHE%252BWAGER%252BDavid%252BGrann\" rel=\"noopener noreferrer\" target=\"_blank\">Books-A-Million</a></li><li><a class=\"css-114t425\" href=\"https://du-gae-books-dot-nyt-du-prd.appspot.com/redirect?url1=https%3A%2F%2Fbookshop.org%2Fa%2F3546%2F9780385534260&amp;url2=https%3A%2F%2Fbookshop.org%2Fbooks%3Faffiliate%3D3546%26keywords%3DTHE%2BWAGER\" rel=\"noopener noreferrer\" target=\"_blank\">Bookshop</a></li><li><a class=\"css-114t425\" href=\"https://du-gae-books-dot-nyt-du-prd.appspot.com/redirect?url1=https%3A%2F%2Fwww.indiebound.org%2Fbook%2F9780385534260%3Faff%3DNYT&amp;url2=https%3A%2F%2Fwww.indiebound.org%2Fsearch%2Fbook%3Fkeys%3DTHE%2BWAGER%2BDavid%2BGrann%26aff%3DNYT\" rel=\"noopener noreferrer\" target=\"_blank\">IndieBound</a></li></ul></div></div></div></div><footer class=\"css-1d36f7m\"><div class=\"css-szqx50\"><a><img alt=\"THE WAGER by David Grann\" itemprop=\"image\" role=\"presentation\" src=\"https://storage.googleapis.com/du-prd/books/images/9780385534260.jpg\"/></a></div></footer><meta content=\"0385534264\" itemprop=\"isbn\"/><meta content=\"9780385534260\" itemprop=\"isbn\"/><meta content=\"1\" itemprop=\"position\"/><meta content=\"https://www.nytimes.com/books/best-sellers/2023/05/07/hardcover-nonfiction#QmVzdFNlbGxlckJvb2s6MDM4NTUzNDI2NC05NzgwMzg1NTM0MjYw\" itemprop=\"url\"/></article>"
      ]
     },
     "execution_count": 5,
     "metadata": {},
     "output_type": "execute_result"
    }
   ],
   "source": [
    "articles[0] #<-- select first article tag from the available 15  article tags in the html"
   ]
  },
  {
   "cell_type": "code",
   "execution_count": 6,
   "id": "80a57e3a",
   "metadata": {},
   "outputs": [
    {
     "data": {
      "text/plain": [
       "[<h3 class=\"css-5pe77f\" itemprop=\"name\">THE WAGER</h3>,\n",
       " <h3 class=\"css-5pe77f\" itemprop=\"name\">OUTLIVE</h3>,\n",
       " <h3 class=\"css-5pe77f\" itemprop=\"name\">YOU CAN'T JOKE ABOUT THAT</h3>,\n",
       " <h3 class=\"css-5pe77f\" itemprop=\"name\">I'M GLAD MY MOM DIED</h3>,\n",
       " <h3 class=\"css-5pe77f\" itemprop=\"name\">SPARE</h3>,\n",
       " <h3 class=\"css-5pe77f\" itemprop=\"name\">THE LIGHT WE CARRY</h3>,\n",
       " <h3 class=\"css-5pe77f\" itemprop=\"name\">POVERTY, BY AMERICA</h3>,\n",
       " <h3 class=\"css-5pe77f\" itemprop=\"name\">GREENLIGHTS</h3>,\n",
       " <h3 class=\"css-5pe77f\" itemprop=\"name\">I SWEAR</h3>,\n",
       " <h3 class=\"css-5pe77f\" itemprop=\"name\">YOU COULD MAKE THIS PLACE BEAUTIFUL</h3>,\n",
       " <h3 class=\"css-5pe77f\" itemprop=\"name\">IT. GOES. SO. FAST.</h3>,\n",
       " <h3 class=\"css-5pe77f\" itemprop=\"name\">THE COURAGE TO BE FREE</h3>,\n",
       " <h3 class=\"css-5pe77f\" itemprop=\"name\">FOLLOW ME TO HELL</h3>,\n",
       " <h3 class=\"css-5pe77f\" itemprop=\"name\">GOT YOUR NUMBER</h3>,\n",
       " <h3 class=\"css-5pe77f\" itemprop=\"name\">CHOOSING TO RUN</h3>]"
      ]
     },
     "execution_count": 6,
     "metadata": {},
     "output_type": "execute_result"
    }
   ],
   "source": [
    "soup.select('article h3') #<-- select each h3 tags inside Article tag (this h3 tag contains the book titles in the html)"
   ]
  },
  {
   "cell_type": "code",
   "execution_count": 7,
   "id": "59fc9ebf",
   "metadata": {},
   "outputs": [
    {
     "data": {
      "text/plain": [
       "[<h3 class=\"css-5pe77f\" itemprop=\"name\">THE WAGER</h3>,\n",
       " <h3 class=\"css-5pe77f\" itemprop=\"name\">OUTLIVE</h3>,\n",
       " <h3 class=\"css-5pe77f\" itemprop=\"name\">YOU CAN'T JOKE ABOUT THAT</h3>,\n",
       " <h3 class=\"css-5pe77f\" itemprop=\"name\">I'M GLAD MY MOM DIED</h3>,\n",
       " <h3 class=\"css-5pe77f\" itemprop=\"name\">SPARE</h3>,\n",
       " <h3 class=\"css-5pe77f\" itemprop=\"name\">THE LIGHT WE CARRY</h3>,\n",
       " <h3 class=\"css-5pe77f\" itemprop=\"name\">POVERTY, BY AMERICA</h3>,\n",
       " <h3 class=\"css-5pe77f\" itemprop=\"name\">GREENLIGHTS</h3>,\n",
       " <h3 class=\"css-5pe77f\" itemprop=\"name\">I SWEAR</h3>,\n",
       " <h3 class=\"css-5pe77f\" itemprop=\"name\">YOU COULD MAKE THIS PLACE BEAUTIFUL</h3>,\n",
       " <h3 class=\"css-5pe77f\" itemprop=\"name\">IT. GOES. SO. FAST.</h3>,\n",
       " <h3 class=\"css-5pe77f\" itemprop=\"name\">THE COURAGE TO BE FREE</h3>,\n",
       " <h3 class=\"css-5pe77f\" itemprop=\"name\">FOLLOW ME TO HELL</h3>,\n",
       " <h3 class=\"css-5pe77f\" itemprop=\"name\">GOT YOUR NUMBER</h3>,\n",
       " <h3 class=\"css-5pe77f\" itemprop=\"name\">CHOOSING TO RUN</h3>]"
      ]
     },
     "execution_count": 7,
     "metadata": {},
     "output_type": "execute_result"
    }
   ],
   "source": [
    "soup.select('article h3[itemprop=\"name\"]')  #<--- select only the h3 tag in article tag with the attribute itemprop = 'name'"
   ]
  },
  {
   "cell_type": "code",
   "execution_count": 8,
   "id": "907fd211",
   "metadata": {},
   "outputs": [
    {
     "data": {
      "text/plain": [
       "bs4.element.ResultSet"
      ]
     },
     "execution_count": 8,
     "metadata": {},
     "output_type": "execute_result"
    }
   ],
   "source": [
    "result = soup.select('article h3[itemprop=\"name\"]')\n",
    "type(result)"
   ]
  },
  {
   "cell_type": "code",
   "execution_count": 9,
   "id": "e6726bfc",
   "metadata": {},
   "outputs": [
    {
     "data": {
      "text/plain": [
       "<h3 class=\"css-5pe77f\" itemprop=\"name\">THE WAGER</h3>"
      ]
     },
     "execution_count": 9,
     "metadata": {},
     "output_type": "execute_result"
    }
   ],
   "source": [
    "result[0] #<-- This returns the html and the books title; but we're only interested in the book title"
   ]
  },
  {
   "cell_type": "code",
   "execution_count": 10,
   "id": "d8a6b1ed",
   "metadata": {},
   "outputs": [
    {
     "data": {
      "text/plain": [
       "'THE WAGER'"
      ]
     },
     "execution_count": 10,
     "metadata": {},
     "output_type": "execute_result"
    }
   ],
   "source": [
    "result[0].text  #<-- get the book title of the first book in the list"
   ]
  },
  {
   "cell_type": "code",
   "execution_count": 11,
   "id": "079978ad",
   "metadata": {},
   "outputs": [],
   "source": [
    "titles = [r.text for r in result]  #<-- the book titles in the list"
   ]
  },
  {
   "cell_type": "code",
   "execution_count": 12,
   "id": "d0ade5c1",
   "metadata": {},
   "outputs": [
    {
     "data": {
      "text/plain": [
       "['THE WAGER',\n",
       " 'OUTLIVE',\n",
       " \"YOU CAN'T JOKE ABOUT THAT\",\n",
       " \"I'M GLAD MY MOM DIED\",\n",
       " 'SPARE',\n",
       " 'THE LIGHT WE CARRY',\n",
       " 'POVERTY, BY AMERICA',\n",
       " 'GREENLIGHTS',\n",
       " 'I SWEAR',\n",
       " 'YOU COULD MAKE THIS PLACE BEAUTIFUL',\n",
       " 'IT. GOES. SO. FAST.',\n",
       " 'THE COURAGE TO BE FREE',\n",
       " 'FOLLOW ME TO HELL',\n",
       " 'GOT YOUR NUMBER',\n",
       " 'CHOOSING TO RUN']"
      ]
     },
     "execution_count": 12,
     "metadata": {},
     "output_type": "execute_result"
    }
   ],
   "source": [
    "titles"
   ]
  },
  {
   "cell_type": "code",
   "execution_count": 13,
   "id": "2463ef07",
   "metadata": {},
   "outputs": [],
   "source": [
    "result = soup.select('article p[itemprop=\"author\"]')"
   ]
  },
  {
   "cell_type": "code",
   "execution_count": 14,
   "id": "22f6bfd6",
   "metadata": {},
   "outputs": [],
   "source": [
    "author = [r.text.replace('by', \" \") for r in result]  # or use the .strip method"
   ]
  },
  {
   "cell_type": "code",
   "execution_count": 15,
   "id": "f0451d52",
   "metadata": {},
   "outputs": [
    {
     "data": {
      "text/plain": [
       "['  David Grann',\n",
       " '  Peter Attia with Bill Gifford',\n",
       " '  Kat Timpf',\n",
       " '  Jennette McCurdy',\n",
       " '  Prince Harry',\n",
       " '  Michelle Obama',\n",
       " '  Matthew Desmond',\n",
       " '  Matthew McConaughey',\n",
       " '  Katie Porter',\n",
       " '  Maggie Smith',\n",
       " '  Mary Louise Kelly',\n",
       " '  Ron DeSantis',\n",
       " '  Tom Clavin',\n",
       " '  Mike Greenberg with Paul Hembekides',\n",
       " '  Des Linden with Bonnie D. Ford']"
      ]
     },
     "execution_count": 15,
     "metadata": {},
     "output_type": "execute_result"
    }
   ],
   "source": [
    "author"
   ]
  },
  {
   "cell_type": "code",
   "execution_count": 16,
   "id": "b2a37220",
   "metadata": {},
   "outputs": [
    {
     "data": {
      "text/plain": [
       "[<img alt=\"THE WAGER by David Grann\" itemprop=\"image\" role=\"presentation\" src=\"https://storage.googleapis.com/du-prd/books/images/9780385534260.jpg\"/>,\n",
       " <img alt=\"OUTLIVE by Peter Attia with Bill Gifford\" itemprop=\"image\" role=\"presentation\" src=\"https://storage.googleapis.com/du-prd/books/images/9780593236598.jpg\"/>,\n",
       " <img alt=\"YOU CAN'T JOKE ABOUT THAT by Kat Timpf\" itemprop=\"image\" role=\"presentation\" src=\"https://storage.googleapis.com/du-prd/books/images/9780063270428.jpg\"/>,\n",
       " <img alt=\"I'M GLAD MY MOM DIED by Jennette McCurdy\" itemprop=\"image\" role=\"presentation\" src=\"https://storage.googleapis.com/du-prd/books/images/9781982185824.jpg\"/>,\n",
       " <img alt=\"SPARE by Prince Harry\" itemprop=\"image\" role=\"presentation\" src=\"https://storage.googleapis.com/du-prd/books/images/9780593593806.jpg\"/>,\n",
       " <img alt=\"THE LIGHT WE CARRY by Michelle Obama\" itemprop=\"image\" role=\"presentation\" src=\"https://storage.googleapis.com/du-prd/books/images/9780593237465.jpg\"/>,\n",
       " <img alt=\"POVERTY, BY AMERICA by Matthew Desmond\" itemprop=\"image\" role=\"presentation\" src=\"https://storage.googleapis.com/du-prd/books/images/9780593239919.jpg\"/>,\n",
       " <img alt=\"GREENLIGHTS by Matthew McConaughey\" itemprop=\"image\" role=\"presentation\" src=\"https://storage.googleapis.com/du-prd/books/images/9780593139134.jpg\"/>,\n",
       " <img alt=\"I SWEAR by Katie Porter\" itemprop=\"image\" role=\"presentation\" src=\"https://storage.googleapis.com/du-prd/books/images/9780593443989.jpg\"/>,\n",
       " <img alt=\"YOU COULD MAKE THIS PLACE BEAUTIFUL by Maggie Smith\" itemprop=\"image\" role=\"presentation\" src=\"https://storage.googleapis.com/du-prd/books/images/9781982185855.jpg\"/>,\n",
       " <img alt=\"IT. GOES. SO. FAST. by Mary Louise Kelly\" itemprop=\"image\" role=\"presentation\" src=\"https://storage.googleapis.com/du-prd/books/images/9781250859853.jpg\"/>,\n",
       " <img alt=\"THE COURAGE TO BE FREE by Ron DeSantis\" itemprop=\"image\" role=\"presentation\" src=\"https://storage.googleapis.com/du-prd/books/images/9780063276000.jpg\"/>,\n",
       " <img alt=\"FOLLOW ME TO HELL by Tom Clavin\" itemprop=\"image\" role=\"presentation\" src=\"https://storage.googleapis.com/du-prd/books/images/9781250214553.jpg\"/>,\n",
       " <img alt=\"GOT YOUR NUMBER by Mike Greenberg with Paul Hembekides\" itemprop=\"image\" role=\"presentation\" src=\"https://storage.googleapis.com/du-prd/books/images/9781368073561.jpg\"/>,\n",
       " <img alt=\"CHOOSING TO RUN by Des Linden with Bonnie D. Ford\" itemprop=\"image\" role=\"presentation\" src=\"https://storage.googleapis.com/du-prd/books/images/9780593186640.jpg\"/>]"
      ]
     },
     "execution_count": 16,
     "metadata": {},
     "output_type": "execute_result"
    }
   ],
   "source": [
    "soup.select('article img[itemprop=\"image\"]')  #<-- Selecting the book covers"
   ]
  },
  {
   "cell_type": "code",
   "execution_count": 17,
   "id": "601065ab",
   "metadata": {},
   "outputs": [
    {
     "data": {
      "text/plain": [
       "<img alt=\"THE WAGER by David Grann\" itemprop=\"image\" role=\"presentation\" src=\"https://storage.googleapis.com/du-prd/books/images/9780385534260.jpg\"/>"
      ]
     },
     "execution_count": 17,
     "metadata": {},
     "output_type": "execute_result"
    }
   ],
   "source": [
    "result = soup.select('article img[itemprop=\"image\"]')\n",
    "result[0]"
   ]
  },
  {
   "cell_type": "code",
   "execution_count": 18,
   "id": "3a3ac5c6",
   "metadata": {},
   "outputs": [
    {
     "data": {
      "text/plain": [
       "['https://storage.googleapis.com/du-prd/books/images/9780385534260.jpg',\n",
       " 'https://storage.googleapis.com/du-prd/books/images/9780593236598.jpg',\n",
       " 'https://storage.googleapis.com/du-prd/books/images/9780063270428.jpg',\n",
       " 'https://storage.googleapis.com/du-prd/books/images/9781982185824.jpg',\n",
       " 'https://storage.googleapis.com/du-prd/books/images/9780593593806.jpg',\n",
       " 'https://storage.googleapis.com/du-prd/books/images/9780593237465.jpg',\n",
       " 'https://storage.googleapis.com/du-prd/books/images/9780593239919.jpg',\n",
       " 'https://storage.googleapis.com/du-prd/books/images/9780593139134.jpg',\n",
       " 'https://storage.googleapis.com/du-prd/books/images/9780593443989.jpg',\n",
       " 'https://storage.googleapis.com/du-prd/books/images/9781982185855.jpg',\n",
       " 'https://storage.googleapis.com/du-prd/books/images/9781250859853.jpg',\n",
       " 'https://storage.googleapis.com/du-prd/books/images/9780063276000.jpg',\n",
       " 'https://storage.googleapis.com/du-prd/books/images/9781250214553.jpg',\n",
       " 'https://storage.googleapis.com/du-prd/books/images/9781368073561.jpg',\n",
       " 'https://storage.googleapis.com/du-prd/books/images/9780593186640.jpg']"
      ]
     },
     "execution_count": 18,
     "metadata": {},
     "output_type": "execute_result"
    }
   ],
   "source": [
    "images = [r['src'] for r in result]\n",
    "#images = [r.get('src') for r in result]\n",
    "images"
   ]
  },
  {
   "cell_type": "markdown",
   "id": "ba4b7d98",
   "metadata": {},
   "source": [
    "Combining the 3 list Together`"
   ]
  },
  {
   "cell_type": "code",
   "execution_count": 19,
   "id": "fb265bb3",
   "metadata": {},
   "outputs": [],
   "source": [
    "book_info = list(zip(titles, author, images))  #<-- Combining the 3 list together (Book Titles, Authors, Images)"
   ]
  },
  {
   "cell_type": "code",
   "execution_count": 20,
   "id": "61e9fbec",
   "metadata": {},
   "outputs": [
    {
     "data": {
      "text/plain": [
       "[('THE WAGER',\n",
       "  '  David Grann',\n",
       "  'https://storage.googleapis.com/du-prd/books/images/9780385534260.jpg'),\n",
       " ('OUTLIVE',\n",
       "  '  Peter Attia with Bill Gifford',\n",
       "  'https://storage.googleapis.com/du-prd/books/images/9780593236598.jpg'),\n",
       " (\"YOU CAN'T JOKE ABOUT THAT\",\n",
       "  '  Kat Timpf',\n",
       "  'https://storage.googleapis.com/du-prd/books/images/9780063270428.jpg'),\n",
       " (\"I'M GLAD MY MOM DIED\",\n",
       "  '  Jennette McCurdy',\n",
       "  'https://storage.googleapis.com/du-prd/books/images/9781982185824.jpg'),\n",
       " ('SPARE',\n",
       "  '  Prince Harry',\n",
       "  'https://storage.googleapis.com/du-prd/books/images/9780593593806.jpg'),\n",
       " ('THE LIGHT WE CARRY',\n",
       "  '  Michelle Obama',\n",
       "  'https://storage.googleapis.com/du-prd/books/images/9780593237465.jpg'),\n",
       " ('POVERTY, BY AMERICA',\n",
       "  '  Matthew Desmond',\n",
       "  'https://storage.googleapis.com/du-prd/books/images/9780593239919.jpg'),\n",
       " ('GREENLIGHTS',\n",
       "  '  Matthew McConaughey',\n",
       "  'https://storage.googleapis.com/du-prd/books/images/9780593139134.jpg'),\n",
       " ('I SWEAR',\n",
       "  '  Katie Porter',\n",
       "  'https://storage.googleapis.com/du-prd/books/images/9780593443989.jpg'),\n",
       " ('YOU COULD MAKE THIS PLACE BEAUTIFUL',\n",
       "  '  Maggie Smith',\n",
       "  'https://storage.googleapis.com/du-prd/books/images/9781982185855.jpg'),\n",
       " ('IT. GOES. SO. FAST.',\n",
       "  '  Mary Louise Kelly',\n",
       "  'https://storage.googleapis.com/du-prd/books/images/9781250859853.jpg'),\n",
       " ('THE COURAGE TO BE FREE',\n",
       "  '  Ron DeSantis',\n",
       "  'https://storage.googleapis.com/du-prd/books/images/9780063276000.jpg'),\n",
       " ('FOLLOW ME TO HELL',\n",
       "  '  Tom Clavin',\n",
       "  'https://storage.googleapis.com/du-prd/books/images/9781250214553.jpg'),\n",
       " ('GOT YOUR NUMBER',\n",
       "  '  Mike Greenberg with Paul Hembekides',\n",
       "  'https://storage.googleapis.com/du-prd/books/images/9781368073561.jpg'),\n",
       " ('CHOOSING TO RUN',\n",
       "  '  Des Linden with Bonnie D. Ford',\n",
       "  'https://storage.googleapis.com/du-prd/books/images/9780593186640.jpg')]"
      ]
     },
     "execution_count": 20,
     "metadata": {},
     "output_type": "execute_result"
    }
   ],
   "source": [
    "book_info"
   ]
  },
  {
   "cell_type": "code",
   "execution_count": null,
   "id": "2e349c13",
   "metadata": {},
   "outputs": [],
   "source": []
  },
  {
   "cell_type": "code",
   "execution_count": null,
   "id": "960f2866",
   "metadata": {},
   "outputs": [],
   "source": []
  },
  {
   "cell_type": "code",
   "execution_count": null,
   "id": "9773117b",
   "metadata": {},
   "outputs": [],
   "source": []
  }
 ],
 "metadata": {
  "kernelspec": {
   "display_name": "Python 3 (ipykernel)",
   "language": "python",
   "name": "python3"
  },
  "language_info": {
   "codemirror_mode": {
    "name": "ipython",
    "version": 3
   },
   "file_extension": ".py",
   "mimetype": "text/x-python",
   "name": "python",
   "nbconvert_exporter": "python",
   "pygments_lexer": "ipython3",
   "version": "3.9.7"
  }
 },
 "nbformat": 4,
 "nbformat_minor": 5
}
